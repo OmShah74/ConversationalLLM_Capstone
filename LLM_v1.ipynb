{
 "cells": [
  {
   "cell_type": "code",
   "execution_count": 1,
   "id": "781db93c",
   "metadata": {},
   "outputs": [],
   "source": [
    "import torch\n",
    "from torch import nn\n",
    "from torch.utils.data import DataLoader\n",
    "import torchvision\n",
    "from torchvision import datasets\n",
    "from torchvision.transforms import ToTensor\n",
    "import torchvision.datasets as datasets\n",
    "import torchvision.transforms as transforms\n",
    "import random\n",
    "import numpy as np\n",
    "from PIL import Image\n",
    "import pandas as pd\n",
    "import os \n",
    "import matplotlib.pyplot as plt\n",
    "import math\n",
    "import random\n",
    "import torch.nn.functional as F\n",
    "import re\n",
    "from  pathlib import Path"
   ]
  },
  {
   "cell_type": "code",
   "execution_count": 2,
   "id": "71ea47bd",
   "metadata": {},
   "outputs": [],
   "source": [
    "import re\n",
    "import pandas as pd\n",
    "\n",
    "\n",
    "def read_whatsapp_chat(file_path: str) -> pd.DataFrame:\n",
    "    # Define filtering patterns\n",
    "    encryption_message = \"Messages and calls are end-to-end encrypted. No one outside of this chat, not even WhatsApp, can read or listen to them. Tap to learn more.\"\n",
    "    media_pattern = \"<Media omitted>\"\n",
    "    email_pattern = r'[A-Za-z0-9._%+-]+@[A-Za-z0-9.-]+\\.[A-Z|a-z]{2,}'\n",
    "    url_pattern = r'http[s]?://(?:[a-zA-Z]|[0-9]|[$-_@.&+]|[!*\\(\\),]|(?:%[0-9a-fA-F][0-9a-fA-F]))+'\n",
    "    edited_message = \"<This message was edited>\"\n",
    "    deleted_message = \"You deleted this message\"\n",
    "    null_message = \"null\"\n",
    "    created_group_message = \"created group\"\n",
    "    added_you_to_group_message = \"added you\"\n",
    "    tagging_pattern = r'@[\\w]+'\n",
    "\n",
    "    with open(file_path, 'r', encoding='utf-8') as f:\n",
    "        lines = f.readlines()\n",
    "\n",
    "    # Apply filters to remove unwanted lines\n",
    "    filtered_lines = []\n",
    "    for line in lines:\n",
    "        if (\n",
    "            encryption_message not in line and\n",
    "            deleted_message not in line and\n",
    "            null_message != line.split(\" \")[-1] and\n",
    "            media_pattern not in line and\n",
    "            created_group_message not in line and\n",
    "            added_you_to_group_message not in line and\n",
    "            not re.search(email_pattern, line) and\n",
    "            not re.search(url_pattern, line)\n",
    "        ):\n",
    "            line = line.replace(edited_message, \"\").strip()\n",
    "            line = re.sub(tagging_pattern, \"\", line).strip()\n",
    "            filtered_lines.append(line)\n",
    "\n",
    "    # Normalize content:\n",
    "    content = '\\n'.join(filtered_lines)\n",
    "    # Replace narrow no-break space (iOS specific)\n",
    "    content = content.replace('\\u202f', ' ')\n",
    "    # Remove square brackets if they surround the timestamp (only for iOS)\n",
    "    content = re.sub(\n",
    "        r'\\[(\\d{1,2}/\\d{1,2}/\\d{2,4}, \\d{1,2}:\\d{2}(?::\\d{2})?\\s?[APap][Mm])\\]',\n",
    "        r'\\1',\n",
    "        content\n",
    "    )\n",
    "    # Remove LRM and RLM characters (Left-to-Right Mark and Right-to-Left Mark)\n",
    "    content = content.replace('\\u200E', '').replace('\\u200F', '')\n",
    "\n",
    "    # Updated regex pattern to match both iOS and Android WhatsApp exports.\n",
    "    pattern = r'(\\d{1,2}/\\d{1,2}/\\d{2,4}, \\d{1,2}:\\d{2}(?::\\d{2})?(?:\\s?[APap][Mm])?)\\s?(?:-|\\~)?\\s?(.*?): (.*?)(?=\\n\\d{1,2}/\\d{1,2}/\\d{2,4}, \\d{1,2}:\\d{2}|$)'\n",
    "    messages = re.findall(pattern, content, re.DOTALL)\n",
    "    df = pd.DataFrame(messages, columns=['timestamp', 'sender', 'message'])\n",
    "\n",
    "    timestamps = []\n",
    "    for timestamp in df['timestamp']:\n",
    "        try:\n",
    "            timestamp = pd.to_datetime(\n",
    "                timestamp, format='mixed', errors='coerce')\n",
    "        except Exception as e:\n",
    "            print(f\"Error parsing timestamp '{timestamp}': {e}\")\n",
    "            timestamp = pd.NaT\n",
    "        timestamps.append(timestamp)\n",
    "\n",
    "    df['timestamp'] = timestamps\n",
    "    return df"
   ]
  },
  {
   "cell_type": "code",
   "execution_count": 3,
   "id": "85646d63",
   "metadata": {},
   "outputs": [
    {
     "name": "stderr",
     "output_type": "stream",
     "text": [
      "<>:2: SyntaxWarning: invalid escape sequence '\\p'\n",
      "<>:2: SyntaxWarning: invalid escape sequence '\\p'\n",
      "C:\\Users\\shree\\AppData\\Local\\Temp\\ipykernel_41704\\1343640759.py:2: SyntaxWarning: invalid escape sequence '\\p'\n",
      "  data_path=Path(\"Data\\private\")\n"
     ]
    }
   ],
   "source": [
    "all_chats={}\n",
    "data_path=Path(\"Data\\private\")\n",
    "for file in data_path.glob(\"*.txt\"):\n",
    "    chat_name=file.stem\n",
    "    all_chats[chat_name]=read_whatsapp_chat(file)"
   ]
  },
  {
   "cell_type": "code",
   "execution_count": 4,
   "id": "6836999b",
   "metadata": {},
   "outputs": [
    {
     "name": "stdout",
     "output_type": "stream",
     "text": [
      "Length of text: 349552 characters\n"
     ]
    }
   ],
   "source": [
    "text_seq=\"\"\n",
    "for file_name in all_chats.keys():\n",
    "    text_seq+=''.join(all_chats[file_name]['message'].values)\n",
    "\n",
    "print(f\"Length of text: {len(text_seq)} characters\")"
   ]
  },
  {
   "cell_type": "code",
   "execution_count": 5,
   "id": "77be3110",
   "metadata": {},
   "outputs": [],
   "source": [
    "with open(\"outputs/combined_text.txt\", \"w\", encoding=\"utf-8\") as f:\n",
    "    f.write(text_seq)"
   ]
  },
  {
   "cell_type": "code",
   "execution_count": 6,
   "id": "de621815",
   "metadata": {},
   "outputs": [
    {
     "name": "stderr",
     "output_type": "stream",
     "text": [
      "<>:4: SyntaxWarning: invalid escape sequence '\\c'\n",
      "<>:4: SyntaxWarning: invalid escape sequence '\\c'\n",
      "C:\\Users\\shree\\AppData\\Local\\Temp\\ipykernel_41704\\3702855359.py:4: SyntaxWarning: invalid escape sequence '\\c'\n",
      "  input='outputs\\combined_text.txt',\n"
     ]
    }
   ],
   "source": [
    "import sentencepiece as spm\n",
    "\n",
    "spm.SentencePieceTrainer.train(\n",
    "    input='outputs\\combined_text.txt',\n",
    "    model_prefix='spm_model',\n",
    "    vocab_size=5762,\n",
    "    model_type='unigram',   # or 'bpe', 'word'\n",
    "    character_coverage=0.9995,\n",
    "    pad_id=0, unk_id=1, bos_id=2, eos_id=3,\n",
    "    user_defined_symbols='[MASK]'\n",
    ")\n",
    "# This writes spm_model.model and spm_model.vocab\n"
   ]
  },
  {
   "cell_type": "code",
   "execution_count": 7,
   "id": "d94f165d",
   "metadata": {},
   "outputs": [
    {
     "name": "stdout",
     "output_type": "stream",
     "text": [
      "[199, 51, 441, 22, 218]\n",
      "My name is Shree\n"
     ]
    }
   ],
   "source": [
    "import sentencepiece as spm\n",
    "\n",
    "sp = spm.SentencePieceProcessor()\n",
    "sp.load(\"spm_model.model\")\n",
    "\n",
    "# Encode text into IDs\n",
    "ids = sp.encode(\"My name is Shree\")\n",
    "print(ids)   \n",
    "\n",
    "# Decode IDs back into text\n",
    "text = sp.decode(ids)\n",
    "print(text)  \n"
   ]
  },
  {
   "cell_type": "code",
   "execution_count": 8,
   "id": "edd7800f",
   "metadata": {},
   "outputs": [
    {
     "data": {
      "text/plain": [
       "'cuda'"
      ]
     },
     "execution_count": 8,
     "metadata": {},
     "output_type": "execute_result"
    }
   ],
   "source": [
    "from typing import Optional\n",
    "import math\n",
    "import torch\n",
    "import torch.nn as nn\n",
    "import torch.nn.functional as F\n",
    "\n",
    "\n",
    "\n",
    "dim: int = 512\n",
    "n_layers: int = 8\n",
    "n_heads: int = 8\n",
    "vocab_size: int = 5762\n",
    "ffn_dim_multiplier: 4\n",
    "norm_eps: float = 1e-5\n",
    "dropout=0.2\n",
    "# Needed for KV cache\n",
    "max_batch_size: int = 32\n",
    "context_length: int = 256\n",
    "\n",
    "device= 'cuda' if torch.cuda.is_available()  else 'cpu'\n",
    "device"
   ]
  },
  {
   "cell_type": "code",
   "execution_count": 9,
   "id": "b47cbccf",
   "metadata": {},
   "outputs": [],
   "source": [
    "import torch\n",
    "import torch.nn as nn\n",
    "import math\n",
    "\n",
    "# Set device and context_length\n",
    "device = torch.device('cuda' if torch.cuda.is_available() else 'cpu')\n",
    "context_length = 256\n",
    "vocab_size = 5762\n",
    "\n",
    "class InputEmbedding(nn.Module):\n",
    "    def __init__(self, vocab_size: int, d_model: int):\n",
    "        super().__init__()\n",
    "        self.d_model = d_model\n",
    "        self.vocab_size = vocab_size\n",
    "        self.embedding = nn.Embedding(vocab_size, d_model)\n",
    "\n",
    "    def forward(self, x):\n",
    "        return self.embedding(x) * math.sqrt(self.d_model)\n",
    "\n",
    "class PositionalEmbedding(nn.Module):\n",
    "    def __init__(self, sequence_length: int, d_model: int, dropout: float):\n",
    "        super().__init__()\n",
    "        self.d_model = d_model\n",
    "        self.sequence_length = sequence_length\n",
    "        self.dropout = nn.Dropout(dropout)\n",
    "        \n",
    "        pe = torch.zeros(sequence_length, d_model)\n",
    "        pos = torch.arange(0, sequence_length, dtype=torch.float).unsqueeze(1)\n",
    "        div_term = torch.exp(torch.arange(0, d_model, 2).float() * (-math.log(10000.0) / d_model))\n",
    "        pe[:, 0::2] = torch.sin(pos * div_term)\n",
    "        pe[:, 1::2] = torch.cos(pos * div_term)\n",
    "        pe = pe.unsqueeze(0)\n",
    "\n",
    "        # Register as buffer so it moves with .to(device)\n",
    "        self.register_buffer('pe', pe)\n",
    "\n",
    "    def forward(self, x):\n",
    "        x = x + self.pe[:, :x.shape[1], :].requires_grad_(False)\n",
    "        return self.dropout(x)\n",
    "\n",
    "class RMSNorm(nn.Module):\n",
    "    def __init__(self, dim: int, eps: float = 1e-6):\n",
    "        super().__init__()\n",
    "        self.eps = eps\n",
    "        self.weight = nn.Parameter(torch.ones(dim))\n",
    "\n",
    "    def _norm(self, x: torch.Tensor):\n",
    "        return x * torch.rsqrt(x.pow(2).mean(-1, keepdim=True) + self.eps)\n",
    "\n",
    "    def forward(self, x: torch.Tensor):\n",
    "        output = self._norm(x.float())\n",
    "        # self.weight will be on the same device as x after model.to(device)\n",
    "        return self.weight * output.type_as(x)\n",
    "\n",
    "class FeedForward(nn.Module):\n",
    "    def __init__(self, d_model: int, dropout: float, ff=4):\n",
    "        super().__init__()\n",
    "        self.d_model = d_model\n",
    "        self.ffw = nn.Sequential(\n",
    "            nn.Linear(d_model, ff * d_model),\n",
    "            nn.ReLU(),\n",
    "            nn.Dropout(dropout),\n",
    "            nn.Linear(ff * d_model, d_model),\n",
    "        )\n",
    "    \n",
    "    def forward(self, x):\n",
    "        return self.ffw(x)\n",
    "\n",
    "class MultiHeadAttention(nn.Module):\n",
    "    def __init__(self, d_model: int, n_head: int, dropout: float, context_length: int):\n",
    "        super().__init__()\n",
    "        self.d_model = d_model\n",
    "        self.h = n_head\n",
    "        assert d_model % n_head == 0, 'd_model is not divisible by the no. of heads'\n",
    "        \n",
    "        self.dk = d_model // self.h\n",
    "        self.w_k = nn.Linear(d_model, d_model, bias=False)\n",
    "        self.w_q = nn.Linear(d_model, d_model, bias=False)\n",
    "        self.w_v = nn.Linear(d_model, d_model, bias=False)\n",
    "        self.dropout = nn.Dropout(dropout)\n",
    "        \n",
    "        # Register as buffer so it moves with .to(device)\n",
    "        self.register_buffer('tril', torch.tril(torch.ones(context_length, context_length)))\n",
    "        self.w_o = nn.Linear(d_model, d_model, bias=False)\n",
    "\n",
    "    @staticmethod\n",
    "    def attention(query, key, value, mask, dropout: nn.Dropout):\n",
    "        dk = query.shape[-1]\n",
    "        attention_scores = (query @ key.transpose(-1, -2)) / math.sqrt(dk)\n",
    "        \n",
    "        T = query.shape[-2]\n",
    "        attention_scores = attention_scores.masked_fill(mask[:T, :T] == 0, -1e9)\n",
    "        attention_scores = attention_scores.softmax(dim=-1)\n",
    "        \n",
    "        if dropout is not None:\n",
    "            attention_scores = dropout(attention_scores)\n",
    "        \n",
    "        return (attention_scores @ value), attention_scores\n",
    "\n",
    "    def forward(self, q, k, v):\n",
    "        key = self.w_k(k)\n",
    "        query = self.w_q(q)\n",
    "        value = self.w_v(v)\n",
    "\n",
    "        query = query.view(query.shape[0], query.shape[1], self.h, self.dk).transpose(1, 2)\n",
    "        key = key.view(key.shape[0], key.shape[1], self.h, self.dk).transpose(1, 2)\n",
    "        value = value.view(value.shape[0], value.shape[1], self.h, self.dk).transpose(1, 2)\n",
    "\n",
    "        x, self.attention_scores = self.attention(query, key, value, self.tril, self.dropout)\n",
    "\n",
    "        x = x.transpose(1, 2).contiguous().view(x.shape[0], -1, self.h * self.dk)\n",
    "        return self.w_o(x)\n",
    "\n",
    "class ResidualConnection(nn.Module):\n",
    "    def __init__(self, dropout: float, d_model: int):\n",
    "        super().__init__()\n",
    "        self.dropout = nn.Dropout(dropout)\n",
    "        self.norm = RMSNorm(d_model)\n",
    "\n",
    "    def forward(self, x, sublayer):\n",
    "        return x + self.dropout(sublayer(self.norm(x)))\n",
    "\n",
    "class DecoderBlock(nn.Module):\n",
    "    def __init__(self, cross_multihead_attention: MultiHeadAttention, \n",
    "                 feed_forward: FeedForward, dropout: float, d_model: int):\n",
    "        super().__init__()\n",
    "        self.cross_multihead_attention = cross_multihead_attention\n",
    "        self.feed_forward = feed_forward\n",
    "        self.dropout = dropout\n",
    "        # Only 2 residual connections in a decoder-only block\n",
    "        self.residual_connections = nn.ModuleList([ResidualConnection(dropout, d_model) for _ in range(2)]) \n",
    "\n",
    "    def forward(self, x):\n",
    "        x = self.residual_connections[0](x, lambda x: self.cross_multihead_attention(x, x, x))\n",
    "        x = self.residual_connections[1](x, self.feed_forward)\n",
    "        return x\n",
    "\n",
    "class Decoder(nn.Module):\n",
    "    def __init__(self, layers: nn.ModuleList, d_model: int):\n",
    "        super().__init__()\n",
    "        self.layers = layers\n",
    "        self.norm = nn.LayerNorm(d_model)\n",
    "\n",
    "    def forward(self, x):\n",
    "        for layer in self.layers:\n",
    "            x = layer(x)\n",
    "        return self.norm(x)\n",
    "\n",
    "class ProjectionLayer(nn.Module):\n",
    "    def __init__(self, d_model: int, vocab_size: int):\n",
    "        super().__init__()\n",
    "        self.d_model = d_model\n",
    "        self.proj = nn.Linear(d_model, vocab_size)\n",
    "    \n",
    "    def forward(self, x):\n",
    "        return torch.log_softmax(self.proj(x), dim=-1)\n",
    "\n",
    "class Transformer(nn.Module):\n",
    "    def __init__(self, vocab_size: int, seq_length: int,\n",
    "                 d_model=512, n_layers=6, n_heads=8, dropout=0.2):\n",
    "        super().__init__()\n",
    "        self.token_embd = InputEmbedding(vocab_size, d_model)\n",
    "        self.pos_emd = PositionalEmbedding(seq_length, d_model, dropout)\n",
    "        \n",
    "        decoder_blocks = []\n",
    "        for _ in range(n_layers):\n",
    "            decoder_cross_attention = MultiHeadAttention(d_model, n_heads, dropout, seq_length)\n",
    "            ffw = FeedForward(d_model, dropout)\n",
    "            decoder_block = DecoderBlock(decoder_cross_attention, ffw, dropout, d_model)\n",
    "            decoder_blocks.append(decoder_block)\n",
    "        \n",
    "        self.decoder = Decoder(nn.ModuleList(decoder_blocks), d_model)\n",
    "        self.rms = RMSNorm(d_model)\n",
    "        self.proj_layer = ProjectionLayer(d_model, vocab_size)\n",
    "\n",
    "\n",
    "    def _init_weights(self, module: nn.Module) -> None:\n",
    "        if isinstance(module, nn.Linear):\n",
    "            torch.nn.init.normal_(module.weight, mean=0.0, std=0.02)\n",
    "            if module.bias is not None:\n",
    "                torch.nn.init.zeros_(module.bias)\n",
    "        elif isinstance(module, nn.Embedding):\n",
    "            torch.nn.init.normal_(module.weight, mean=0.0, std=0.02)\n",
    "\n",
    "    def forward(self, input_tokens,targets: Optional[torch.Tensor] = None):\n",
    "        B, T = input_tokens.shape\n",
    "        t_emb = self.token_embd(input_tokens)\n",
    "        x = self.pos_emd(t_emb)\n",
    "        x = self.decoder(x)\n",
    "        x = self.rms(x)\n",
    "        logits = self.proj_layer(x)\n",
    "        if targets is None:\n",
    "            loss = None\n",
    "        else:\n",
    "            B, T, C = logits.shape\n",
    "            logits = logits.view(B*T, C)\n",
    "            targets = targets.view(B*T)\n",
    "            loss = F.cross_entropy(logits, targets)\n",
    "        return logits,loss\n",
    "    \n",
    "\n",
    "\n",
    "    def generate(self, input_tokens: torch.Tensor, max_new_tokens: int) -> torch.Tensor:\n",
    "        \"\"\"\n",
    "                Generate new tokens given a context.\n",
    "\n",
    "                Args:\n",
    "                        input_tokens: Starting token indices of shape (batch_size, sequence_length)\n",
    "                        max_new_tokens: Number of new tokens to generate\n",
    "\n",
    "                Returns:\n",
    "                        Tensor of token indices of shape (batch_size, sequence_length + max_new_tokens)\n",
    "                \"\"\"\n",
    "\n",
    "        # input_tokens is (B, T) array of indices in the current context\n",
    "        for _ in range(max_new_tokens):\n",
    "            # crop input_tokens to the last block_size tokens\n",
    "            cropped_input = input_tokens[:, -context_length:]\n",
    "            # get the predictions\n",
    "            logits, _ = self(cropped_input)\n",
    "            # focus only on the last time step\n",
    "            logits = logits[:, -1, :]  # becomes (B, C)\n",
    "            # apply softmax to get probabilities\n",
    "            probs = F.softmax(logits, dim=-1)  # (B, C)\n",
    "            # sample from the distribution\n",
    "            idx_next = torch.multinomial(probs, num_samples=1)  # (B, 1)\n",
    "            # append sampled index to the running sequence\n",
    "            input_tokens = torch.cat(\n",
    "                (input_tokens, idx_next), dim=1)  # (B, T+1)\n",
    "        return input_tokens\n",
    "    \n",
    "\n"
   ]
  },
  {
   "cell_type": "code",
   "execution_count": 10,
   "id": "b2dab8ca",
   "metadata": {},
   "outputs": [
    {
     "name": "stdout",
     "output_type": "stream",
     "text": [
      "Output shape: torch.Size([1, 256, 5762])\n",
      "Device: cuda:0\n"
     ]
    }
   ],
   "source": [
    "transformer = Transformer(vocab_size=vocab_size, seq_length=context_length,\n",
    "                        d_model=512, n_layers=6, n_heads=8, dropout=0.2)\n",
    "\n",
    "# Move model to device\n",
    "model = transformer.to(device)\n",
    "# Create input and move to device\n",
    "x= torch.randint(0, vocab_size, (1, context_length)).to(device)\n",
    "\n",
    "# Forward pass\n",
    "output,_ = model(x)\n",
    "print(f\"Output shape: {output.shape}\")\n",
    "print(f\"Device: {output.device}\")"
   ]
  },
  {
   "cell_type": "code",
   "execution_count": 11,
   "id": "f751029b",
   "metadata": {},
   "outputs": [
    {
     "name": "stdout",
     "output_type": "stream",
     "text": [
      "24.803458 M para\n"
     ]
    }
   ],
   "source": [
    "print(sum(p.numel() for p in model.parameters())/1e6, 'M para')"
   ]
  },
  {
   "cell_type": "code",
   "execution_count": 12,
   "id": "a6e96c43",
   "metadata": {},
   "outputs": [
    {
     "name": "stderr",
     "output_type": "stream",
     "text": [
      "<>:1: SyntaxWarning: invalid escape sequence '\\c'\n",
      "<>:1: SyntaxWarning: invalid escape sequence '\\c'\n",
      "C:\\Users\\shree\\AppData\\Local\\Temp\\ipykernel_41704\\1466599194.py:1: SyntaxWarning: invalid escape sequence '\\c'\n",
      "  with open('outputs\\combined_text.txt','r') as f:\n"
     ]
    },
    {
     "data": {
      "text/plain": [
       "110189"
      ]
     },
     "execution_count": 12,
     "metadata": {},
     "output_type": "execute_result"
    }
   ],
   "source": [
    "with open('outputs\\combined_text.txt','r') as f:\n",
    "    text_sequence=f.read()\n",
    "\n",
    "encoded_text_sequence=sp.Encode(text_sequence)\n",
    "len(encoded_text_sequence)"
   ]
  },
  {
   "cell_type": "code",
   "execution_count": 13,
   "id": "0c8d0d05",
   "metadata": {},
   "outputs": [],
   "source": [
    "data=torch.tensor(encoded_text_sequence,dtype=torch.long)\n",
    "split_index=int(0.95*len(data))\n",
    "train_data=data[:split_index]\n",
    "test_data=data[split_index:]"
   ]
  },
  {
   "cell_type": "code",
   "execution_count": 14,
   "id": "f70a348a",
   "metadata": {},
   "outputs": [
    {
     "data": {
      "text/plain": [
       "(torch.Size([256, 256]), torch.Size([256, 256]))"
      ]
     },
     "execution_count": 14,
     "metadata": {},
     "output_type": "execute_result"
    }
   ],
   "source": [
    "from typing import Tuple\n",
    "\n",
    "\n",
    "def get_batch(split: str) -> Tuple[torch.Tensor, torch.Tensor]:\n",
    "    # generate a small batch of data of inputs x and targets y\n",
    "    data = train_data if split == 'train' else test_data\n",
    "    index = torch.randint(len(data) - context_length, (context_length,))\n",
    "    x = torch.stack([data[i:i+context_length] for i in index])\n",
    "    y = torch.stack([data[i+1:i+context_length+1] for i in index])\n",
    "    x, y = x.to(device), y.to(device)\n",
    "    return x, y\n",
    "\n",
    "x, y = get_batch('train')\n",
    "x.shape, y.shape"
   ]
  },
  {
   "cell_type": "code",
   "execution_count": 15,
   "id": "af6f1a58",
   "metadata": {},
   "outputs": [],
   "source": [
    "from typing import Tuple\n",
    "from torch.utils.data import Dataset, DataLoader\n",
    "\n",
    "\n",
    "class TextDataset(Dataset):\n",
    "    def __init__(self, data: torch.Tensor, block_size: int) -> None:\n",
    "        if len(data) <= block_size:\n",
    "            raise ValueError(\n",
    "                f\"The length of the data ({len(data)}) must be greater than the block_size ({block_size}).\"\n",
    "            )\n",
    "\n",
    "        self.data = data\n",
    "        self.block_size = block_size\n",
    "\n",
    "    def __len__(self) -> int:\n",
    "        return len(self.data) - self.block_size\n",
    "\n",
    "    def __getitem__(self, index: int) -> Tuple[torch.Tensor, torch.Tensor]:\n",
    "        x = self.data[index : index + self.block_size]\n",
    "        y = self.data[index + 1 : index + self.block_size + 1]\n",
    "        return x, y\n",
    "\n",
    "\n",
    "def get_dataloaders(\n",
    "    train_data: torch.Tensor,\n",
    "    val_data: torch.Tensor,\n",
    "    block_size: int,\n",
    "    batch_size: int,\n",
    "    device: torch.device,\n",
    ") -> Tuple[DataLoader, DataLoader]:\n",
    "    train_dataset = TextDataset(train_data.to(device), block_size)\n",
    "    val_dataset = TextDataset(val_data.to(device), block_size)\n",
    "\n",
    "    train_loader = DataLoader(\n",
    "        train_dataset,\n",
    "        batch_size=batch_size,\n",
    "        shuffle=True,\n",
    "    )\n",
    "    val_loader = DataLoader(\n",
    "        val_dataset,\n",
    "        batch_size=batch_size,\n",
    "        shuffle=False,\n",
    "    )\n",
    "\n",
    "    return train_loader, val_loader"
   ]
  },
  {
   "cell_type": "code",
   "execution_count": 16,
   "id": "e4b1327b",
   "metadata": {},
   "outputs": [
    {
     "data": {
      "text/plain": [
       "(torch.Size([64, 256]), torch.Size([64, 256]))"
      ]
     },
     "execution_count": 16,
     "metadata": {},
     "output_type": "execute_result"
    }
   ],
   "source": [
    "train_loader, val_loader = get_dataloaders(\n",
    "    train_data=train_data,\n",
    "    val_data=test_data,\n",
    "    block_size=context_length,\n",
    "    batch_size=64,\n",
    "    device=device,\n",
    ")\n",
    "x, y = next(iter(train_loader))\n",
    "x.shape, y.shape"
   ]
  },
  {
   "cell_type": "code",
   "execution_count": 17,
   "id": "904e745a",
   "metadata": {},
   "outputs": [],
   "source": [
    "from typing import Dict\n",
    "\n",
    "\n",
    "@torch.no_grad()\n",
    "def estimate_loss(\n",
    "    model: torch.nn.Module,\n",
    "    train_loader: DataLoader,\n",
    "    val_loader: DataLoader,\n",
    "    eval_iters: int\n",
    ") -> Dict[str, float]:\n",
    "    output = {}\n",
    "    model.eval()\n",
    "\n",
    "    for split, loader in [('train', train_loader), ('val', val_loader)]:\n",
    "        losses = torch.zeros(eval_iters)\n",
    "        for i, (x, y) in enumerate(loader):\n",
    "            if i >= eval_iters:\n",
    "                break\n",
    "            with torch.no_grad():\n",
    "                _,loss= model(x,y)\n",
    "            losses[i] = loss.item()\n",
    "        output[split] = losses.mean().item()\n",
    "\n",
    "    model.train()\n",
    "    return output"
   ]
  },
  {
   "cell_type": "code",
   "execution_count": 18,
   "id": "602cf81e",
   "metadata": {},
   "outputs": [],
   "source": [
    "def save_checkpoint(\n",
    "    model: Transformer,\n",
    "    optimizer: torch.optim.Optimizer,\n",
    "    epoch: int,\n",
    "    loss: float,\n",
    "    file_path: str = \"checkpoint.pth\"\n",
    ") -> None:\n",
    "    checkpoint = {\n",
    "        'epoch': epoch,\n",
    "        'model_state_dict': model.state_dict(),\n",
    "        'optimizer_state_dict': optimizer.state_dict(),\n",
    "        'loss': loss\n",
    "    }\n",
    "    torch.save(checkpoint, file_path)"
   ]
  },
  {
   "cell_type": "code",
   "execution_count": 19,
   "id": "11f2b943",
   "metadata": {},
   "outputs": [],
   "source": [
    "from tqdm import tqdm"
   ]
  },
  {
   "cell_type": "code",
   "execution_count": null,
   "id": "6912d04f",
   "metadata": {},
   "outputs": [
    {
     "name": "stderr",
     "output_type": "stream",
     "text": [
      "  0%|          | 0/2 [00:00<?, ?it/s]"
     ]
    },
    {
     "name": "stdout",
     "output_type": "stream",
     "text": [
      "iteration 0 / step 0: train loss 0.0520, val loss 14.3975\n",
      "iteration 0 / step 100: train loss 0.0533, val loss 14.4768\n",
      "iteration 0 / step 200: train loss 0.0527, val loss 14.4306\n",
      "iteration 0 / step 300: train loss 0.0507, val loss 14.5233\n",
      "iteration 0 / step 400: train loss 0.0500, val loss 14.5608\n",
      "iteration 0 / step 500: train loss 0.0510, val loss 14.4755\n",
      "iteration 0 / step 600: train loss 0.0524, val loss 14.5216\n",
      "iteration 0 / step 700: train loss 0.0502, val loss 14.5631\n",
      "iteration 0 / step 800: train loss 0.0507, val loss 14.5208\n",
      "iteration 0 / step 900: train loss 0.0516, val loss 14.6094\n",
      "iteration 0 / step 1000: train loss 0.0502, val loss 14.5357\n",
      "iteration 0 / step 1100: train loss 0.0487, val loss 14.5504\n",
      "iteration 0 / step 1200: train loss 0.0488, val loss 14.6517\n",
      "iteration 0 / step 1300: train loss 0.0490, val loss 14.7099\n",
      "iteration 0 / step 1400: train loss 0.0492, val loss 14.6438\n",
      "iteration 0 / step 1500: train loss 0.0481, val loss 14.5984\n",
      "iteration 0 / step 1600: train loss 0.0484, val loss 14.6562\n",
      "iteration 0 / step 1631: train loss 0.0478, val loss 14.6519\n"
     ]
    },
    {
     "name": "stderr",
     "output_type": "stream",
     "text": [
      " 50%|█████     | 1/2 [32:41<32:41, 1961.43s/it]"
     ]
    },
    {
     "name": "stdout",
     "output_type": "stream",
     "text": [
      "iteration 1 / step 0: train loss 0.0479, val loss 14.6487\n",
      "iteration 1 / step 100: train loss 0.0478, val loss 14.7414\n",
      "iteration 1 / step 200: train loss 0.0478, val loss 14.7954\n",
      "iteration 1 / step 300: train loss 0.0481, val loss 14.7632\n",
      "iteration 1 / step 400: train loss 0.0480, val loss 14.7619\n",
      "iteration 1 / step 500: train loss 0.0466, val loss 14.7792\n",
      "iteration 1 / step 600: train loss 0.0473, val loss 14.7389\n",
      "iteration 1 / step 700: train loss 0.0468, val loss 14.7211\n",
      "iteration 1 / step 800: train loss 0.0474, val loss 14.8516\n",
      "iteration 1 / step 900: train loss 0.0460, val loss 14.8870\n",
      "iteration 1 / step 1000: train loss 0.0475, val loss 14.9961\n",
      "iteration 1 / step 1100: train loss 0.0451, val loss 14.9714\n",
      "iteration 1 / step 1200: train loss 0.0447, val loss 14.9392\n",
      "iteration 1 / step 1300: train loss 0.0461, val loss 14.9477\n",
      "iteration 1 / step 1400: train loss 0.0454, val loss 14.9138\n",
      "iteration 1 / step 1500: train loss 0.0455, val loss 14.8850\n",
      "iteration 1 / step 1600: train loss 0.0459, val loss 14.9810\n",
      "iteration 1 / step 1631: train loss 0.0458, val loss 15.0016\n"
     ]
    },
    {
     "name": "stderr",
     "output_type": "stream",
     "text": [
      " 50%|█████     | 1/2 [1:05:27<1:05:27, 3927.87s/it]\n"
     ]
    },
    {
     "ename": "RuntimeError",
     "evalue": "Parent directory ../output/pre_training/run_4 does not exist.",
     "output_type": "error",
     "traceback": [
      "\u001b[1;31m---------------------------------------------------------------------------\u001b[0m",
      "\u001b[1;31mRuntimeError\u001b[0m                              Traceback (most recent call last)",
      "Cell \u001b[1;32mIn[205], line 39\u001b[0m\n\u001b[0;32m     35\u001b[0m     optimizer\u001b[38;5;241m.\u001b[39mstep()\n\u001b[0;32m     37\u001b[0m \u001b[38;5;28;01mif\u001b[39;00m epoch \u001b[38;5;241m==\u001b[39m\u001b[38;5;241m1\u001b[39m:\n\u001b[0;32m     38\u001b[0m     \u001b[38;5;66;03m# Save checkpoint\u001b[39;00m\n\u001b[1;32m---> 39\u001b[0m     save_checkpoint(\n\u001b[0;32m     40\u001b[0m         model\u001b[38;5;241m=\u001b[39mmodel,\n\u001b[0;32m     41\u001b[0m         optimizer\u001b[38;5;241m=\u001b[39moptimizer,\n\u001b[0;32m     42\u001b[0m         epoch\u001b[38;5;241m=\u001b[39mepoch,\n\u001b[0;32m     43\u001b[0m         loss\u001b[38;5;241m=\u001b[39mloss\u001b[38;5;241m.\u001b[39mitem(),\n\u001b[0;32m     44\u001b[0m         file_path\u001b[38;5;241m=\u001b[39m\u001b[38;5;124mf\u001b[39m\u001b[38;5;124m\"\u001b[39m\u001b[38;5;124m../output/pre_training/run_4/checkpoint_\u001b[39m\u001b[38;5;132;01m{\u001b[39;00mepoch\u001b[38;5;132;01m}\u001b[39;00m\u001b[38;5;124m.pth\u001b[39m\u001b[38;5;124m\"\u001b[39m\n\u001b[0;32m     45\u001b[0m     )\n",
      "Cell \u001b[1;32mIn[18], line 14\u001b[0m, in \u001b[0;36msave_checkpoint\u001b[1;34m(model, optimizer, epoch, loss, file_path)\u001b[0m\n\u001b[0;32m      1\u001b[0m \u001b[38;5;28;01mdef\u001b[39;00m \u001b[38;5;21msave_checkpoint\u001b[39m(\n\u001b[0;32m      2\u001b[0m     model: Transformer,\n\u001b[0;32m      3\u001b[0m     optimizer: torch\u001b[38;5;241m.\u001b[39moptim\u001b[38;5;241m.\u001b[39mOptimizer,\n\u001b[1;32m   (...)\u001b[0m\n\u001b[0;32m      6\u001b[0m     file_path: \u001b[38;5;28mstr\u001b[39m \u001b[38;5;241m=\u001b[39m \u001b[38;5;124m\"\u001b[39m\u001b[38;5;124mcheckpoint.pth\u001b[39m\u001b[38;5;124m\"\u001b[39m\n\u001b[0;32m      7\u001b[0m ) \u001b[38;5;241m-\u001b[39m\u001b[38;5;241m>\u001b[39m \u001b[38;5;28;01mNone\u001b[39;00m:\n\u001b[0;32m      8\u001b[0m     checkpoint \u001b[38;5;241m=\u001b[39m {\n\u001b[0;32m      9\u001b[0m         \u001b[38;5;124m'\u001b[39m\u001b[38;5;124mepoch\u001b[39m\u001b[38;5;124m'\u001b[39m: epoch,\n\u001b[0;32m     10\u001b[0m         \u001b[38;5;124m'\u001b[39m\u001b[38;5;124mmodel_state_dict\u001b[39m\u001b[38;5;124m'\u001b[39m: model\u001b[38;5;241m.\u001b[39mstate_dict(),\n\u001b[0;32m     11\u001b[0m         \u001b[38;5;124m'\u001b[39m\u001b[38;5;124moptimizer_state_dict\u001b[39m\u001b[38;5;124m'\u001b[39m: optimizer\u001b[38;5;241m.\u001b[39mstate_dict(),\n\u001b[0;32m     12\u001b[0m         \u001b[38;5;124m'\u001b[39m\u001b[38;5;124mloss\u001b[39m\u001b[38;5;124m'\u001b[39m: loss\n\u001b[0;32m     13\u001b[0m     }\n\u001b[1;32m---> 14\u001b[0m     torch\u001b[38;5;241m.\u001b[39msave(checkpoint, file_path)\n",
      "File \u001b[1;32mc:\\Users\\shree\\anaconda3\\envs\\deepenv3\\Lib\\site-packages\\torch\\serialization.py:849\u001b[0m, in \u001b[0;36msave\u001b[1;34m(obj, f, pickle_module, pickle_protocol, _use_new_zipfile_serialization, _disable_byteorder_record)\u001b[0m\n\u001b[0;32m    846\u001b[0m _check_save_filelike(f)\n\u001b[0;32m    848\u001b[0m \u001b[38;5;28;01mif\u001b[39;00m _use_new_zipfile_serialization:\n\u001b[1;32m--> 849\u001b[0m     \u001b[38;5;28;01mwith\u001b[39;00m _open_zipfile_writer(f) \u001b[38;5;28;01mas\u001b[39;00m opened_zipfile:\n\u001b[0;32m    850\u001b[0m         _save(\n\u001b[0;32m    851\u001b[0m             obj,\n\u001b[0;32m    852\u001b[0m             opened_zipfile,\n\u001b[1;32m   (...)\u001b[0m\n\u001b[0;32m    855\u001b[0m             _disable_byteorder_record,\n\u001b[0;32m    856\u001b[0m         )\n\u001b[0;32m    857\u001b[0m         \u001b[38;5;28;01mreturn\u001b[39;00m\n",
      "File \u001b[1;32mc:\\Users\\shree\\anaconda3\\envs\\deepenv3\\Lib\\site-packages\\torch\\serialization.py:716\u001b[0m, in \u001b[0;36m_open_zipfile_writer\u001b[1;34m(name_or_buffer)\u001b[0m\n\u001b[0;32m    714\u001b[0m \u001b[38;5;28;01melse\u001b[39;00m:\n\u001b[0;32m    715\u001b[0m     container \u001b[38;5;241m=\u001b[39m _open_zipfile_writer_buffer\n\u001b[1;32m--> 716\u001b[0m \u001b[38;5;28;01mreturn\u001b[39;00m container(name_or_buffer)\n",
      "File \u001b[1;32mc:\\Users\\shree\\anaconda3\\envs\\deepenv3\\Lib\\site-packages\\torch\\serialization.py:687\u001b[0m, in \u001b[0;36m_open_zipfile_writer_file.__init__\u001b[1;34m(self, name)\u001b[0m\n\u001b[0;32m    685\u001b[0m     \u001b[38;5;28msuper\u001b[39m()\u001b[38;5;241m.\u001b[39m\u001b[38;5;21m__init__\u001b[39m(torch\u001b[38;5;241m.\u001b[39m_C\u001b[38;5;241m.\u001b[39mPyTorchFileWriter(\u001b[38;5;28mself\u001b[39m\u001b[38;5;241m.\u001b[39mfile_stream))\n\u001b[0;32m    686\u001b[0m \u001b[38;5;28;01melse\u001b[39;00m:\n\u001b[1;32m--> 687\u001b[0m     \u001b[38;5;28msuper\u001b[39m()\u001b[38;5;241m.\u001b[39m\u001b[38;5;21m__init__\u001b[39m(torch\u001b[38;5;241m.\u001b[39m_C\u001b[38;5;241m.\u001b[39mPyTorchFileWriter(\u001b[38;5;28mself\u001b[39m\u001b[38;5;241m.\u001b[39mname))\n",
      "\u001b[1;31mRuntimeError\u001b[0m: Parent directory ../output/pre_training/run_4 does not exist."
     ]
    }
   ],
   "source": [
    "epochs = 2\n",
    "eval_interval = 100\n",
    "eval_iters = 200\n",
    "learning_rate = 3e-4\n",
    "\n",
    "optimizer = torch.optim.AdamW(model.parameters(), lr=learning_rate)\n",
    "\n",
    "\n",
    "train_losses = []\n",
    "val_losses = []\n",
    "\n",
    "for epoch in tqdm(range(epochs)):\n",
    "    for batch_idx, (x_batch, y_batch) in enumerate(train_loader):\n",
    "        # Evaluation\n",
    "        if batch_idx % eval_interval == 0 or batch_idx == len(train_loader) - 1:\n",
    "            losses = estimate_loss(\n",
    "                model=model,\n",
    "                train_loader=train_loader,\n",
    "                val_loader=val_loader,\n",
    "                eval_iters=min(eval_iters, len(val_loader))\n",
    "            )\n",
    "            train_losses.append(losses['train'])\n",
    "            val_losses.append(losses['val'])\n",
    "\n",
    "            print(\n",
    "                f\"iteration {epoch} / step {batch_idx}: \"\n",
    "                f\"train loss {losses['train']:.4f}, \"\n",
    "                f\"val loss {losses['val']:.4f}\"\n",
    "            )\n",
    "\n",
    "        # Training step\n",
    "        logits, loss = model(x_batch, y_batch)\n",
    "        optimizer.zero_grad(set_to_none=True)\n",
    "        loss.backward()\n",
    "        optimizer.step()\n",
    "\n",
    "    if epoch==1:\n",
    "        # Save checkpoint\n",
    "        save_checkpoint(\n",
    "            model=model,\n",
    "            optimizer=optimizer,\n",
    "            epoch=epoch,\n",
    "            loss=loss.item(),\n",
    "            file_path=f\"outputs/pre_training/run_4/checkpoint_{epoch}.pth\"\n",
    "        )"
   ]
  },
  {
   "cell_type": "code",
   "execution_count": 210,
   "id": "5b8cf1fa",
   "metadata": {},
   "outputs": [],
   "source": [
    "# Save checkpoint\n",
    "save_checkpoint(\n",
    "    model=model,\n",
    "    optimizer=optimizer,\n",
    "    epoch=epoch,\n",
    "    loss=loss.item(),\n",
    "    file_path=f\"C:/Users/shree/OneDrive/Documents/Trasnformer_architecture/outputs/checkpoint_{epoch}.pth\"\n",
    ")"
   ]
  },
  {
   "cell_type": "code",
   "execution_count": 21,
   "id": "cd389593",
   "metadata": {},
   "outputs": [
    {
     "data": {
      "image/png": "[encoded data removed]",
      "text/plain": [
       "<Figure size 1000x500 with 1 Axes>"
      ]
     },
     "metadata": {},
     "output_type": "display_data"
    }
   ],
   "source": [
    "import matplotlib.pyplot as plt\n",
    "\n",
    "plt.figure(figsize=(10, 5))\n",
    "plt.plot(train_losses, label=\"Train Loss\", marker='o')\n",
    "# plt.plot(val_losses, label=\"Validation Loss\", marker='o')\n",
    "plt.xlabel(\"Evaluation Step\")\n",
    "plt.ylabel(\"Loss\")\n",
    "plt.title(\"Training and Validation Loss Over Time\")\n",
    "plt.legend()\n",
    "plt.grid()\n",
    "plt.show()"
   ]
  },
  {
   "cell_type": "code",
   "execution_count": 553,
   "id": "650ab091",
   "metadata": {},
   "outputs": [
    {
     "name": "stdout",
     "output_type": "stream",
     "text": [
      "clg hain?Haan\n"
     ]
    }
   ],
   "source": [
    "input_tokens = sp.Encode(\"clg hain?\")\n",
    "input_tokens = torch.tensor(\n",
    "    input_tokens, dtype=torch.long).unsqueeze(0).to(device)\n",
    "\n",
    "model.eval()\n",
    "with torch.no_grad():\n",
    "    output = model.generate(input_tokens=input_tokens, max_new_tokens=1)\n",
    "\n",
    "print(sp.Decode(output[0].tolist()))"
   ]
  },
  {
   "cell_type": "code",
   "execution_count": 554,
   "id": "5df87882",
   "metadata": {},
   "outputs": [
    {
     "name": "stdout",
     "output_type": "stream",
     "text": [
      "postal code mumbai 400088\n"
     ]
    }
   ],
   "source": [
    "input_tokens = sp.Encode(\"postal code mumbai\")\n",
    "input_tokens = torch.tensor(\n",
    "    input_tokens, dtype=torch.long).unsqueeze(0).to(device)\n",
    "\n",
    "model.eval()\n",
    "with torch.no_grad():\n",
    "    output = model.generate(input_tokens=input_tokens, max_new_tokens=1)\n",
    "\n",
    "print(sp.Decode(output[0].tolist()))"
   ]
  },
  {
   "cell_type": "code",
   "execution_count": 560,
   "id": "82ef0236",
   "metadata": {},
   "outputs": [
    {
     "name": "stdout",
     "output_type": "stream",
     "text": [
      "paper ka working part karna hai tohI hav\n"
     ]
    }
   ],
   "source": [
    "input_tokens = sp.Encode(\"paper\")\n",
    "input_tokens = torch.tensor(\n",
    "    input_tokens, dtype=torch.long).unsqueeze(0).to(device)\n",
    "\n",
    "model.eval()\n",
    "with torch.no_grad():\n",
    "    output = model.generate(input_tokens=input_tokens, max_new_tokens=9)\n",
    "\n",
    "print(sp.Decode(output[0].tolist()))"
   ]
  },
  {
   "cell_type": "code",
   "execution_count": 565,
   "id": "58fc8e95",
   "metadata": {},
   "outputs": [
    {
     "name": "stdout",
     "output_type": "stream",
     "text": [
      "araha hain?nahiOm bhai bohot traffic hain and train bhi\n"
     ]
    }
   ],
   "source": [
    "input_tokens = sp.Encode(\"araha hain?\")\n",
    "input_tokens = torch.tensor(\n",
    "    input_tokens, dtype=torch.long).unsqueeze(0).to(device)\n",
    "\n",
    "model.eval()\n",
    "with torch.no_grad():\n",
    "    output = model.generate(input_tokens=input_tokens, max_new_tokens=10)\n",
    "\n",
    "print(sp.Decode(output[0].tolist()))"
   ]
  },
  {
   "cell_type": "code",
   "execution_count": 569,
   "id": "596e10ea",
   "metadata": {},
   "outputs": [
    {
     "name": "stdout",
     "output_type": "stream",
     "text": [
      "in hain kya?Haan\n"
     ]
    }
   ],
   "source": [
    "input_tokens = sp.Encode(\"in hain kya?\")\n",
    "input_tokens = torch.tensor(\n",
    "    input_tokens, dtype=torch.long).unsqueeze(0).to(device)\n",
    "\n",
    "model.eval()\n",
    "with torch.no_grad():\n",
    "    output = model.generate(input_tokens=input_tokens, max_new_tokens=1)\n",
    "\n",
    "print(sp.Decode(output[0].tolist()))"
   ]
  },
  {
   "cell_type": "code",
   "execution_count": 572,
   "id": "ff68def4",
   "metadata": {},
   "outputs": [
    {
     "name": "stdout",
     "output_type": "stream",
     "text": [
      "code💀Let's try 🫡😂Bruh imma tryAlso if ur doing local pc pe then use torch.amppehle ye run karta hu kal shaam ko30 percent reduction guaranteedHaan\n"
     ]
    }
   ],
   "source": [
    "input_tokens = sp.Encode(\"code\")\n",
    "input_tokens = torch.tensor(\n",
    "    input_tokens, dtype=torch.long).unsqueeze(0).to(device)\n",
    "\n",
    "model.eval()\n",
    "with torch.no_grad():\n",
    "    output = model.generate(input_tokens=input_tokens, max_new_tokens=50)\n",
    "\n",
    "print(sp.Decode(output[0].tolist()))"
   ]
  }
 ],
 "metadata": {
  "kernelspec": {
   "display_name": "deepenv3",
   "language": "python",
   "name": "python3"
  },
  "language_info": {
   "codemirror_mode": {
    "name": "ipython",
    "version": 3
   },
   "file_extension": ".py",
   "mimetype": "text/x-python",
   "name": "python",
   "nbconvert_exporter": "python",
   "pygments_lexer": "ipython3",
   "version": "3.12.7"
  }
 },
 "nbformat": 4,
 "nbformat_minor": 5
}
